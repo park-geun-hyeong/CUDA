{
  "nbformat": 4,
  "nbformat_minor": 0,
  "metadata": {
    "colab": {
      "provenance": [],
      "collapsed_sections": [],
      "authorship_tag": "ABX9TyMnnSwSGSpQBL1dQd25afdh",
      "include_colab_link": true
    },
    "kernelspec": {
      "name": "python3",
      "display_name": "Python 3"
    },
    "language_info": {
      "name": "python"
    },
    "accelerator": "GPU"
  },
  "cells": [
    {
      "cell_type": "markdown",
      "metadata": {
        "id": "view-in-github",
        "colab_type": "text"
      },
      "source": [
        "<a href=\"https://colab.research.google.com/github/park-geun-hyeong/CUDA/blob/main/EX4_0923.ipynb\" target=\"_parent\"><img src=\"https://colab.research.google.com/assets/colab-badge.svg\" alt=\"Open In Colab\"/></a>"
      ]
    },
    {
      "cell_type": "markdown",
      "source": [
        "## Kernel Function"
      ],
      "metadata": {
        "id": "wcSHXgkdynP6"
      }
    },
    {
      "cell_type": "code",
      "execution_count": 1,
      "metadata": {
        "colab": {
          "base_uri": "https://localhost:8080/"
        },
        "id": "j4kODnKeyXI2",
        "outputId": "fb1e8c32-dbf0-41c6-c86f-fefc75b1c6b2"
      },
      "outputs": [
        {
          "output_type": "stream",
          "name": "stdout",
          "text": [
            "Wed Sep 28 06:22:29 2022       \n",
            "+-----------------------------------------------------------------------------+\n",
            "| NVIDIA-SMI 460.32.03    Driver Version: 460.32.03    CUDA Version: 11.2     |\n",
            "|-------------------------------+----------------------+----------------------+\n",
            "| GPU  Name        Persistence-M| Bus-Id        Disp.A | Volatile Uncorr. ECC |\n",
            "| Fan  Temp  Perf  Pwr:Usage/Cap|         Memory-Usage | GPU-Util  Compute M. |\n",
            "|                               |                      |               MIG M. |\n",
            "|===============================+======================+======================|\n",
            "|   0  Tesla T4            Off  | 00000000:00:04.0 Off |                    0 |\n",
            "| N/A   50C    P8    10W /  70W |      0MiB / 15109MiB |      0%      Default |\n",
            "|                               |                      |                  N/A |\n",
            "+-------------------------------+----------------------+----------------------+\n",
            "                                                                               \n",
            "+-----------------------------------------------------------------------------+\n",
            "| Processes:                                                                  |\n",
            "|  GPU   GI   CI        PID   Type   Process name                  GPU Memory |\n",
            "|        ID   ID                                                   Usage      |\n",
            "|=============================================================================|\n",
            "|  No running processes found                                                 |\n",
            "+-----------------------------------------------------------------------------+\n"
          ]
        }
      ],
      "source": [
        "!nvidia-smi"
      ]
    },
    {
      "cell_type": "code",
      "source": [
        "!nvcc --version"
      ],
      "metadata": {
        "colab": {
          "base_uri": "https://localhost:8080/"
        },
        "id": "5xU2sKZdycSQ",
        "outputId": "546b5f7f-076e-464c-84f0-542dd3eec748"
      },
      "execution_count": 2,
      "outputs": [
        {
          "output_type": "stream",
          "name": "stdout",
          "text": [
            "nvcc: NVIDIA (R) Cuda compiler driver\n",
            "Copyright (c) 2005-2020 NVIDIA Corporation\n",
            "Built on Mon_Oct_12_20:09:46_PDT_2020\n",
            "Cuda compilation tools, release 11.1, V11.1.105\n",
            "Build cuda_11.1.TC455_06.29190527_0\n"
          ]
        }
      ]
    },
    {
      "cell_type": "markdown",
      "source": [
        "- CUDA 에서는 접두어(prefix)를 사용하여 CPU와 GPU 코드를 구분한다\n",
        "\n",
        "### __ host__\n",
        "- 호스트(CPU)에서 호출 및 실행하는 함수 접두어\n",
        "- 별다른 접두어가 없는 경우 __host__가 생략된 것으로 간주\n",
        "\n",
        "### __ device__\n",
        "- 디바이스(GPU)에서 호출 및 실행하는 함수 접두어\n",
        "\n",
        "### __ global__\n",
        "- 호스트(CPU)에서 호출\n",
        "- 디바이스(GPU)에서 실행\n",
        "- 호스트와 디바이스를 연결하는 다리 역할 수행"
      ],
      "metadata": {
        "id": "b1L5tQ_xyihr"
      }
    },
    {
      "cell_type": "code",
      "source": [
        "%%writefile kernel_example.cu\n",
        "\n",
        "// __global__ function : add()\n",
        "// __host__ function   : main()\n",
        "\n",
        "#include<stdio.h>\n",
        "\n",
        "__global__ void add(int a, int b, int *c)\n",
        "{\n",
        "  *c = a + b;\n",
        "}\n",
        "\n",
        "int main(){\n",
        "  int c;\n",
        "  int *dev_c;\n",
        "\n",
        "  // 일반적으로 비동기적으로 진행된다. \n",
        "  // 하지만 cudaMemcpy() 함수는 add()함수가 계산하여 dev_c에 값이 할당되기 전까지 대기상태가 되기 때문에, 동기적으로 실행되는 것처럼 보이는 것\n",
        "  \n",
        "  cudaMalloc((void**)&dev_c, sizeof(int));\n",
        "  add<<<1,1>>>(2,7,dev_c); // <<<블록 개수, 쓰레드 개수>>>\n",
        "  cudaMemcpy(&c, dev_c, sizeof(int), cudaMemcpyDeviceToHost);\n",
        "\n",
        "  printf(\"2 + 7 = %d\\n\", c);\n",
        "  return 0;\n",
        "}"
      ],
      "metadata": {
        "colab": {
          "base_uri": "https://localhost:8080/"
        },
        "id": "0ekdGpQkzY9x",
        "outputId": "3beb8d7e-250b-4bf4-b3bd-fb7732f1971c"
      },
      "execution_count": 3,
      "outputs": [
        {
          "output_type": "stream",
          "name": "stdout",
          "text": [
            "Writing kernel_example.cu\n"
          ]
        }
      ]
    },
    {
      "cell_type": "code",
      "source": [
        "!nvcc -o kernel_example kernel_example.cu"
      ],
      "metadata": {
        "id": "pa9xyfJv3TdY"
      },
      "execution_count": 4,
      "outputs": []
    },
    {
      "cell_type": "code",
      "source": [
        "!./kernel_example"
      ],
      "metadata": {
        "colab": {
          "base_uri": "https://localhost:8080/"
        },
        "id": "FFlhGQWX3WLI",
        "outputId": "39b5f32d-6071-467f-fa15-9feff4653447"
      },
      "execution_count": 5,
      "outputs": [
        {
          "output_type": "stream",
          "name": "stdout",
          "text": [
            "2 + 7 = 9\n"
          ]
        }
      ]
    },
    {
      "cell_type": "markdown",
      "source": [
        "### 단일 CPU 기반 Vector 합 계산 (for loop)"
      ],
      "metadata": {
        "id": "w7oQf9a73tse"
      }
    },
    {
      "cell_type": "code",
      "source": [
        "%%writefile vector_add_only_cpu.cu\n",
        "\n",
        "#include<stdio.h>\n",
        "#define N 10\n",
        "\n",
        "int main(){\n",
        "  int a[N], b[N], c[N];\n",
        "\n",
        "  for(int i = 0; i < N; i++)\n",
        "  {\n",
        "    a[i] = i;\n",
        "    b[i] = 100*i;\n",
        "    c[i] = a[i] + b[i];\n",
        "  }\n",
        "\n",
        "  for(int i = 0; i < N; i++)\n",
        "  {\n",
        "    printf(\"%d + %d = %d\\n\", a[i], b[i], c[i]);\n",
        "  }\n",
        "\n",
        "  return 0;\n",
        "}"
      ],
      "metadata": {
        "colab": {
          "base_uri": "https://localhost:8080/"
        },
        "id": "2fPGRwrY6ucg",
        "outputId": "e558ae05-d85e-42c3-df40-947837cc517e"
      },
      "execution_count": 6,
      "outputs": [
        {
          "output_type": "stream",
          "name": "stdout",
          "text": [
            "Writing vector_add_only_cpu.cu\n"
          ]
        }
      ]
    },
    {
      "cell_type": "code",
      "source": [
        "!nvcc -o vector_add_only_cpu vector_add_only_cpu.cu"
      ],
      "metadata": {
        "id": "kBqafpfn7M2O"
      },
      "execution_count": 7,
      "outputs": []
    },
    {
      "cell_type": "code",
      "source": [
        "!./vector_add_only_cpu"
      ],
      "metadata": {
        "colab": {
          "base_uri": "https://localhost:8080/"
        },
        "id": "kd-sL7LQ7Qvi",
        "outputId": "fbd942a7-7f1a-4378-da69-72518410a8da"
      },
      "execution_count": 8,
      "outputs": [
        {
          "output_type": "stream",
          "name": "stdout",
          "text": [
            "0 + 0 = 0\n",
            "1 + 100 = 101\n",
            "2 + 200 = 202\n",
            "3 + 300 = 303\n",
            "4 + 400 = 404\n",
            "5 + 500 = 505\n",
            "6 + 600 = 606\n",
            "7 + 700 = 707\n",
            "8 + 800 = 808\n",
            "9 + 900 = 909\n"
          ]
        }
      ]
    },
    {
      "cell_type": "markdown",
      "source": [
        "\n",
        "## Multi CPU 기반 Vector 합 계산(for loop)\n",
        "- 단일코어지만 멀티코어 계산하는 것처럼 코드 작성"
      ],
      "metadata": {
        "id": "wX4uhFde7Sbt"
      }
    },
    {
      "cell_type": "code",
      "source": [
        "!lscpu"
      ],
      "metadata": {
        "colab": {
          "base_uri": "https://localhost:8080/"
        },
        "id": "66Nakxy57_SO",
        "outputId": "325908f3-87e5-4cad-d4f9-7f4356fde516"
      },
      "execution_count": 9,
      "outputs": [
        {
          "output_type": "stream",
          "name": "stdout",
          "text": [
            "Architecture:        x86_64\n",
            "CPU op-mode(s):      32-bit, 64-bit\n",
            "Byte Order:          Little Endian\n",
            "CPU(s):              2\n",
            "On-line CPU(s) list: 0,1\n",
            "Thread(s) per core:  2\n",
            "Core(s) per socket:  1\n",
            "Socket(s):           1\n",
            "NUMA node(s):        1\n",
            "Vendor ID:           GenuineIntel\n",
            "CPU family:          6\n",
            "Model:               79\n",
            "Model name:          Intel(R) Xeon(R) CPU @ 2.20GHz\n",
            "Stepping:            0\n",
            "CPU MHz:             2199.998\n",
            "BogoMIPS:            4399.99\n",
            "Hypervisor vendor:   KVM\n",
            "Virtualization type: full\n",
            "L1d cache:           32K\n",
            "L1i cache:           32K\n",
            "L2 cache:            256K\n",
            "L3 cache:            56320K\n",
            "NUMA node0 CPU(s):   0,1\n",
            "Flags:               fpu vme de pse tsc msr pae mce cx8 apic sep mtrr pge mca cmov pat pse36 clflush mmx fxsr sse sse2 ss ht syscall nx pdpe1gb rdtscp lm constant_tsc rep_good nopl xtopology nonstop_tsc cpuid tsc_known_freq pni pclmulqdq ssse3 fma cx16 pcid sse4_1 sse4_2 x2apic movbe popcnt aes xsave avx f16c rdrand hypervisor lahf_lm abm 3dnowprefetch invpcid_single ssbd ibrs ibpb stibp fsgsbase tsc_adjust bmi1 hle avx2 smep bmi2 erms invpcid rtm rdseed adx smap xsaveopt arat md_clear arch_capabilities\n"
          ]
        }
      ]
    },
    {
      "cell_type": "code",
      "source": [
        "%%writefile vector_add_multi_cpu.cu\n",
        "\n",
        "#include<stdio.h>\n",
        "\n",
        "#define N 60\n",
        "#define K 4\n",
        "\n",
        "void add(int myid, int *a, int *b, int *c)\n",
        "{\n",
        "  int tid = myid;\n",
        "  while(tid < N)\n",
        "  {\n",
        "    c[tid] = a[tid] + b[tid];\n",
        "    tid += K;\n",
        "  }\n",
        "}\n",
        "\n",
        "int main(){\n",
        "\n",
        "  int a[N], b[N], c[N];\n",
        "\n",
        "  for(int i = 0; i<N; i++)\n",
        "  {\n",
        "    a[i] = i;\n",
        "    b[i] = 100*i;\n",
        "  }\n",
        "\n",
        " add(0, a,b,c); add(1,a,b,c); add(2,a,b,c); add(3,a,b,c);\n",
        " for(int i = 0; i < N; i++)\n",
        "  {\n",
        "    printf(\"%d + %d = %d\\n\", a[i], b[i], c[i]);\n",
        "  }\n",
        "  return 0;\n",
        "}"
      ],
      "metadata": {
        "colab": {
          "base_uri": "https://localhost:8080/"
        },
        "id": "0wjuIZZw7c1d",
        "outputId": "2298ff3a-0840-4902-c416-26b06d250ee0"
      },
      "execution_count": 10,
      "outputs": [
        {
          "output_type": "stream",
          "name": "stdout",
          "text": [
            "Writing vector_add_multi_cpu.cu\n"
          ]
        }
      ]
    },
    {
      "cell_type": "code",
      "source": [
        "!nvcc -o vector_add_multi_cpu vector_add_multi_cpu.cu"
      ],
      "metadata": {
        "id": "I5BV9sft7n3Y"
      },
      "execution_count": 11,
      "outputs": []
    },
    {
      "cell_type": "code",
      "source": [
        "!./vector_add_multi_cpu"
      ],
      "metadata": {
        "colab": {
          "base_uri": "https://localhost:8080/"
        },
        "id": "ZXlgmiwN7oE7",
        "outputId": "57b3e563-5879-4db5-991b-0706c6bcaea9"
      },
      "execution_count": 12,
      "outputs": [
        {
          "output_type": "stream",
          "name": "stdout",
          "text": [
            "0 + 0 = 0\n",
            "1 + 100 = 101\n",
            "2 + 200 = 202\n",
            "3 + 300 = 303\n",
            "4 + 400 = 404\n",
            "5 + 500 = 505\n",
            "6 + 600 = 606\n",
            "7 + 700 = 707\n",
            "8 + 800 = 808\n",
            "9 + 900 = 909\n",
            "10 + 1000 = 1010\n",
            "11 + 1100 = 1111\n",
            "12 + 1200 = 1212\n",
            "13 + 1300 = 1313\n",
            "14 + 1400 = 1414\n",
            "15 + 1500 = 1515\n",
            "16 + 1600 = 1616\n",
            "17 + 1700 = 1717\n",
            "18 + 1800 = 1818\n",
            "19 + 1900 = 1919\n",
            "20 + 2000 = 2020\n",
            "21 + 2100 = 2121\n",
            "22 + 2200 = 2222\n",
            "23 + 2300 = 2323\n",
            "24 + 2400 = 2424\n",
            "25 + 2500 = 2525\n",
            "26 + 2600 = 2626\n",
            "27 + 2700 = 2727\n",
            "28 + 2800 = 2828\n",
            "29 + 2900 = 2929\n",
            "30 + 3000 = 3030\n",
            "31 + 3100 = 3131\n",
            "32 + 3200 = 3232\n",
            "33 + 3300 = 3333\n",
            "34 + 3400 = 3434\n",
            "35 + 3500 = 3535\n",
            "36 + 3600 = 3636\n",
            "37 + 3700 = 3737\n",
            "38 + 3800 = 3838\n",
            "39 + 3900 = 3939\n",
            "40 + 4000 = 4040\n",
            "41 + 4100 = 4141\n",
            "42 + 4200 = 4242\n",
            "43 + 4300 = 4343\n",
            "44 + 4400 = 4444\n",
            "45 + 4500 = 4545\n",
            "46 + 4600 = 4646\n",
            "47 + 4700 = 4747\n",
            "48 + 4800 = 4848\n",
            "49 + 4900 = 4949\n",
            "50 + 5000 = 5050\n",
            "51 + 5100 = 5151\n",
            "52 + 5200 = 5252\n",
            "53 + 5300 = 5353\n",
            "54 + 5400 = 5454\n",
            "55 + 5500 = 5555\n",
            "56 + 5600 = 5656\n",
            "57 + 5700 = 5757\n",
            "58 + 5800 = 5858\n",
            "59 + 5900 = 5959\n"
          ]
        }
      ]
    },
    {
      "cell_type": "markdown",
      "source": [
        "## 병렬 GPU 기반 CUDA 연산"
      ],
      "metadata": {
        "id": "ffIWGlDe7oLC"
      }
    },
    {
      "cell_type": "code",
      "source": [
        "%%writefile vector_add_gpu.cu\n",
        "\n",
        "#include<stdio.h>\n",
        "#define N 20\n",
        "\n",
        "__global__ void add(int *a, int *b, int *c)\n",
        "{\n",
        "  int tid = blockIdx.x;\n",
        "  c[tid] = a[tid] + b[tid];\n",
        "}\n",
        "\n",
        "int main(){\n",
        "\n",
        "  int size = N*sizeof(int);\n",
        "  int a[N], b[N], c[N];\n",
        "\n",
        "  int *dev_a, *dev_b, *dev_c;\n",
        "\n",
        "  cudaMalloc((void**)&dev_a, size);\n",
        "  cudaMalloc((void**)&dev_b, size);\n",
        "  cudaMalloc((void**)&dev_c, size);  \n",
        "\n",
        "  for(int i=0; i<N; i++)\n",
        "  {\n",
        "    a[i] = i;\n",
        "    b[i] = 100*i;\n",
        "  }\n",
        "\n",
        "  cudaMemcpy(dev_a, a, size, cudaMemcpyHostToDevice);\n",
        "  cudaMemcpy(dev_b, b, size, cudaMemcpyHostToDevice);\n",
        "\n",
        "  add<<<N,1>>>(dev_a, dev_b, dev_c);\n",
        "\n",
        "  cudaMemcpy(c, dev_c, size, cudaMemcpyDeviceToHost);\n",
        "\n",
        "  cudaFree(dev_a);\n",
        "  cudaFree(dev_b);\n",
        "  cudaFree(dev_c);\n",
        "\n",
        "  for(int i=0; i<N; i++)\n",
        "  {\n",
        "    printf(\"%d + %d = %d\\n\", a[i], b[i],c[i]);\n",
        "  }\n",
        "\n",
        "  return 0;\n",
        "}"
      ],
      "metadata": {
        "colab": {
          "base_uri": "https://localhost:8080/"
        },
        "id": "szvLQ6pLvAbA",
        "outputId": "ca871240-4cbb-4e2a-a819-9810ec7e61f3"
      },
      "execution_count": 27,
      "outputs": [
        {
          "output_type": "stream",
          "name": "stdout",
          "text": [
            "Overwriting vector_add_gpu.cu\n"
          ]
        }
      ]
    },
    {
      "cell_type": "code",
      "source": [
        "!nvcc -o vector_add_gpu vector_add_gpu.cu"
      ],
      "metadata": {
        "id": "4CT9Jtd31qTz"
      },
      "execution_count": 28,
      "outputs": []
    },
    {
      "cell_type": "code",
      "source": [
        "!./vector_add_gpu"
      ],
      "metadata": {
        "colab": {
          "base_uri": "https://localhost:8080/"
        },
        "id": "JZpFp6H21wsg",
        "outputId": "6bf8b41c-f556-420b-99eb-88f98c10cc33"
      },
      "execution_count": 30,
      "outputs": [
        {
          "output_type": "stream",
          "name": "stdout",
          "text": [
            "0 + 0 = 0\n",
            "1 + 100 = 101\n",
            "2 + 200 = 202\n",
            "3 + 300 = 303\n",
            "4 + 400 = 404\n",
            "5 + 500 = 505\n",
            "6 + 600 = 606\n",
            "7 + 700 = 707\n",
            "8 + 800 = 808\n",
            "9 + 900 = 909\n",
            "10 + 1000 = 1010\n",
            "11 + 1100 = 1111\n",
            "12 + 1200 = 1212\n",
            "13 + 1300 = 1313\n",
            "14 + 1400 = 1414\n",
            "15 + 1500 = 1515\n",
            "16 + 1600 = 1616\n",
            "17 + 1700 = 1717\n",
            "18 + 1800 = 1818\n",
            "19 + 1900 = 1919\n"
          ]
        }
      ]
    }
  ]
}