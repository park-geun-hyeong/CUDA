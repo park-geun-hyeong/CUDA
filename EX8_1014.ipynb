{
  "nbformat": 4,
  "nbformat_minor": 0,
  "metadata": {
    "colab": {
      "provenance": [],
      "collapsed_sections": [],
      "authorship_tag": "ABX9TyMBJ4m3o+4mhsGHmccZ8uTj",
      "include_colab_link": true
    },
    "kernelspec": {
      "name": "python3",
      "display_name": "Python 3"
    },
    "language_info": {
      "name": "python"
    },
    "accelerator": "GPU"
  },
  "cells": [
    {
      "cell_type": "markdown",
      "metadata": {
        "id": "view-in-github",
        "colab_type": "text"
      },
      "source": [
        "<a href=\"https://colab.research.google.com/github/park-geun-hyeong/CUDA/blob/main/EX8_1014.ipynb\" target=\"_parent\"><img src=\"https://colab.research.google.com/assets/colab-badge.svg\" alt=\"Open In Colab\"/></a>"
      ]
    },
    {
      "cell_type": "code",
      "execution_count": null,
      "metadata": {
        "colab": {
          "base_uri": "https://localhost:8080/"
        },
        "id": "elVCmQ6L-Pt5",
        "outputId": "8442f140-0bd1-4590-adaa-a0d7c4b0350a"
      },
      "outputs": [
        {
          "output_type": "stream",
          "name": "stdout",
          "text": [
            "Wed Oct 19 06:08:29 2022       \n",
            "+-----------------------------------------------------------------------------+\n",
            "| NVIDIA-SMI 460.32.03    Driver Version: 460.32.03    CUDA Version: 11.2     |\n",
            "|-------------------------------+----------------------+----------------------+\n",
            "| GPU  Name        Persistence-M| Bus-Id        Disp.A | Volatile Uncorr. ECC |\n",
            "| Fan  Temp  Perf  Pwr:Usage/Cap|         Memory-Usage | GPU-Util  Compute M. |\n",
            "|                               |                      |               MIG M. |\n",
            "|===============================+======================+======================|\n",
            "|   0  Tesla T4            Off  | 00000000:00:04.0 Off |                    0 |\n",
            "| N/A   55C    P8    10W /  70W |      0MiB / 15109MiB |      0%      Default |\n",
            "|                               |                      |                  N/A |\n",
            "+-------------------------------+----------------------+----------------------+\n",
            "                                                                               \n",
            "+-----------------------------------------------------------------------------+\n",
            "| Processes:                                                                  |\n",
            "|  GPU   GI   CI        PID   Type   Process name                  GPU Memory |\n",
            "|        ID   ID                                                   Usage      |\n",
            "|=============================================================================|\n",
            "|  No running processes found                                                 |\n",
            "+-----------------------------------------------------------------------------+\n"
          ]
        }
      ],
      "source": [
        "!nvidia-smi"
      ]
    },
    {
      "cell_type": "code",
      "source": [
        "!nvcc --version"
      ],
      "metadata": {
        "colab": {
          "base_uri": "https://localhost:8080/"
        },
        "id": "YI3nUjKa-UsM",
        "outputId": "8b960dd9-38bc-49b0-aa6c-cff278bf898a"
      },
      "execution_count": null,
      "outputs": [
        {
          "output_type": "stream",
          "name": "stdout",
          "text": [
            "nvcc: NVIDIA (R) Cuda compiler driver\n",
            "Copyright (c) 2005-2021 NVIDIA Corporation\n",
            "Built on Sun_Feb_14_21:12:58_PST_2021\n",
            "Cuda compilation tools, release 11.2, V11.2.152\n",
            "Build cuda_11.2.r11.2/compiler.29618528_0\n"
          ]
        }
      ]
    },
    {
      "cell_type": "markdown",
      "source": [
        "## CPU Matrix Multiplication"
      ],
      "metadata": {
        "id": "s6JtF1OQ-Ysb"
      }
    },
    {
      "cell_type": "code",
      "source": [
        "%%writefile matrix_mul.cu\n",
        "\n",
        "#include <stdio.h>\n",
        "#include <stdlib.h>\n",
        "#include <time.h>\n",
        "#define Length 12\n",
        "\n",
        "void MatMul(int *M, int *N, int *P);\n",
        "void printResult(int *P);\n",
        "\n",
        "int main()\n",
        "{\n",
        "  srand(time(NULL));\n",
        "\n",
        "  const int Matsize = Length * Length;\n",
        "  const int Buffersize = Matsize * sizeof(int);\n",
        "\n",
        "  int *M, *N, *P;\n",
        "  M = (int*)malloc(Buffersize);\n",
        "  N = (int*)malloc(Buffersize);\n",
        "  P = (int*)malloc(Buffersize);\n",
        "\n",
        "  for(int i=0; i<Matsize; i++)\n",
        "  {\n",
        "    M[i] = rand()%4;\n",
        "    N[i] = rand()%4;\n",
        "    P[i] = 0;\n",
        "  }\n",
        "\n",
        "  MatMul(M,N,P);\n",
        "  printResult(P);\n",
        "\n",
        "  free(M); free(N); free(P);\n",
        "  return 0;\n",
        "}\n",
        "\n",
        "\n",
        "void MatMul(int *M, int *N, int *P)\n",
        "{\n",
        "  for(int row = 0; row < Length; row ++)\n",
        "  {\n",
        "    for(int col = 0; col< Length; col++)\n",
        "    {\n",
        "      for(int i=0; i<Length; i++)\n",
        "      {\n",
        "        int idx = row * Length + col;\n",
        "        P[idx] += M[row*Length + i] * N[col + i*Length];\n",
        "      }\n",
        "    }\n",
        "  }\n",
        "}\n",
        "\n",
        "void printResult(int *P)\n",
        "{\n",
        "  for(int row = 0; row < Length; row ++)\n",
        "  {\n",
        "    for(int col = 0; col< Length; col++)\n",
        "    {\n",
        "      int idx = row * Length + col;\n",
        "      printf(\"%d \", P[idx]);\n",
        "    }\n",
        "    printf(\"\\n\");\n",
        "  }\n",
        "}\n"
      ],
      "metadata": {
        "colab": {
          "base_uri": "https://localhost:8080/"
        },
        "id": "Ll_daSWj_uE7",
        "outputId": "c1478fb0-2f16-4dda-83c7-919b38be5e66"
      },
      "execution_count": null,
      "outputs": [
        {
          "output_type": "stream",
          "name": "stdout",
          "text": [
            "Writing matrix_mul.cu\n"
          ]
        }
      ]
    },
    {
      "cell_type": "code",
      "source": [
        "!nvcc -o matrix_mul matrix_mul.cu"
      ],
      "metadata": {
        "id": "UUH50ZpfCWiX"
      },
      "execution_count": null,
      "outputs": []
    },
    {
      "cell_type": "code",
      "source": [
        "!./matrix_mul"
      ],
      "metadata": {
        "colab": {
          "base_uri": "https://localhost:8080/"
        },
        "id": "3ntTkIyQCZi2",
        "outputId": "5a901835-5583-4152-c3b7-0d5d766ecffc"
      },
      "execution_count": null,
      "outputs": [
        {
          "output_type": "stream",
          "name": "stdout",
          "text": [
            "14 35 26 20 15 18 39 36 15 23 27 30 \n",
            "19 47 27 32 24 24 48 49 22 26 42 40 \n",
            "14 21 24 15 22 18 38 32 22 19 27 20 \n",
            "19 28 25 18 15 11 37 24 14 22 31 24 \n",
            "14 31 27 24 22 14 40 35 16 25 26 23 \n",
            "11 8 11 18 27 9 35 18 16 20 16 8 \n",
            "9 29 18 21 16 13 27 28 11 21 15 18 \n",
            "27 49 41 35 30 32 60 52 34 41 46 38 \n",
            "21 34 30 27 25 32 50 46 29 32 39 25 \n",
            "21 32 23 24 24 27 42 37 26 27 37 22 \n",
            "16 30 24 23 22 15 40 29 22 27 30 31 \n",
            "29 46 34 31 20 25 47 36 32 32 39 33 \n"
          ]
        }
      ]
    },
    {
      "cell_type": "code",
      "source": [
        "%%writefile matmul.c\n",
        "#include<stdio.h>\n",
        "\n",
        "void MatMul(int *M, int *N, int *P, int m_width, int m_height, int n_width, n_height)\n",
        "{\n",
        "  for(int row = 0; row < m_heigth; row ++)\n",
        "  {\n",
        "    for(int col = 0; col< n_width; col++)\n",
        "    {\n",
        "      for(int i=0; i<m_width; i++)\n",
        "      {\n",
        "        for(int j=0; j<n_height; j++)\n",
        "        {\n",
        "           int idx = row * m_height + col;\n",
        "           P[idx] += M[row*m_height + i] * N[col + j*n_width] \n",
        "        }\n",
        "      }\n",
        "    }\n",
        "  }\n",
        "}\n",
        "\n"
      ],
      "metadata": {
        "id": "6Aehx3UJDH2J",
        "colab": {
          "base_uri": "https://localhost:8080/"
        },
        "outputId": "42f15c18-751f-4a71-f127-a41656654441"
      },
      "execution_count": null,
      "outputs": [
        {
          "output_type": "stream",
          "name": "stdout",
          "text": [
            "Writing matmul.c\n"
          ]
        }
      ]
    },
    {
      "cell_type": "markdown",
      "source": [
        "## GPU Matrix Multiplication"
      ],
      "metadata": {
        "id": "XqUp7gIkICaq"
      }
    },
    {
      "cell_type": "code",
      "source": [
        "%%writefile matmul_gpu.cu\n",
        "\n",
        "#include<stdio.h>\n",
        "#include<stdlib.h>\n",
        "#include<time.h>\n",
        "#define LENGTH 12\n",
        "\n",
        "__global__ void Matmul(int *M, int *N, int*P)\n",
        "{\n",
        "  int tid, tx, ty;\n",
        "  tx = blockDim.x * blockIdx.x + threadIdx.x;\n",
        "  ty = blockDim.y * blockIdx.y + threadIdx.y;\n",
        "  int DimX = gridDim.x * blockDim.x;\n",
        "  tid = DimX * ty + tx;\n",
        "\n",
        "  int Value = 0;\n",
        "  int MVal = 0;\n",
        "  int NVal = 0;\n",
        "\n",
        "  for(int k = 0; k<DimX; k++)\n",
        "  {\n",
        "    MVal = M[ty * DimX + k];\n",
        "    NVal = N[k * DimX + tx];\n",
        "    Value += MVal*NVal;\n",
        "  }\n",
        "  P[tid] = Value;\n",
        "}\n",
        "\n",
        "void printResult(int *P);\n",
        "\n",
        "\n",
        "int main()\n",
        "{\n",
        "  srand(time(NULL));\n",
        "  const int MatrixSize = LENGTH*LENGTH;\n",
        "  const int BufferSize = MatrixSize * sizeof(int);\n",
        "\n",
        "  int *M, *N, *P;\n",
        "  M = (int*)malloc(BufferSize);\n",
        "  N = (int*)malloc(BufferSize);\n",
        "  P = (int*)malloc(BufferSize);\n",
        "  for(int i=0; i<MatrixSize; i++)\n",
        "  {\n",
        "    M[i] = rand()%4;\n",
        "    N[i] = rand()%8;\n",
        "    P[i] = 0; \n",
        "  }\n",
        " \n",
        "  int *dev_M, *dev_N, *dev_p;\n",
        "  cudaMalloc((void**)&dev_M, BufferSize);\n",
        "  cudaMalloc((void**)&dev_N, BufferSize);\n",
        "  cudaMalloc((void**)&dev_p, BufferSize);\n",
        "\n",
        "  cudaMemcpy(dev_M, M, BufferSize, cudaMemcpyHostToDevice);\n",
        "  cudaMemcpy(dev_N, N, BufferSize, cudaMemcpyHostToDevice);\n",
        "\n",
        "  dim3 Dg(3,3,1);\n",
        "  dim3 Db(8,6,1);\n",
        "  //int DimX = 3*8;\n",
        "\n",
        "  Matmul<<<Dg,Db>>>(dev_M, dev_N, dev_p);\n",
        "  cudaMemcpy(P, dev_p, BufferSize, cudaMemcpyDeviceToHost);\n",
        "\n",
        "  printf(\"\\n[M Matrix]\\n\");\n",
        "  printResult(M);\n",
        "\n",
        "  printf(\"\\n[N Matrix]\\n\");\n",
        "  printResult(N);\n",
        "\n",
        "  printf(\"\\n[P Matrix]\\n\");\n",
        "  printResult(P);\n",
        "  cudaFree(dev_M); cudaFree(dev_N); cudaFree(dev_p);\n",
        "  free(M); free(N); free(P);\n",
        "\n",
        "  return 0;\n",
        "}\n",
        "\n",
        "void printResult(int *P)\n",
        "{\n",
        "  for(int row = 0; row < LENGTH; row ++)\n",
        "  {\n",
        "    for(int col = 0; col< LENGTH; col++)\n",
        "    {\n",
        "      int idx = row * LENGTH + col;\n",
        "      printf(\"%d \", P[idx]);\n",
        "    }\n",
        "    printf(\"\\n\");\n",
        "  }\n",
        "}"
      ],
      "metadata": {
        "id": "x2iL1IAAH73U",
        "colab": {
          "base_uri": "https://localhost:8080/"
        },
        "outputId": "1f29dd95-1774-4297-a0dd-130f94575750"
      },
      "execution_count": null,
      "outputs": [
        {
          "output_type": "stream",
          "name": "stdout",
          "text": [
            "Overwriting matmul_gpu.cu\n"
          ]
        }
      ]
    },
    {
      "cell_type": "code",
      "source": [
        "!nvcc -o matmul_gpu matmul_gpu.cu"
      ],
      "metadata": {
        "id": "2aw6rVoU3D1B"
      },
      "execution_count": null,
      "outputs": []
    },
    {
      "cell_type": "code",
      "source": [
        "!./matmul_gpu"
      ],
      "metadata": {
        "colab": {
          "base_uri": "https://localhost:8080/"
        },
        "id": "84ovdals3D91",
        "outputId": "8038149d-7070-4fb0-dfb3-ab6e0e562086"
      },
      "execution_count": null,
      "outputs": [
        {
          "output_type": "stream",
          "name": "stdout",
          "text": [
            "\n",
            "[M Matrix]\n",
            "3 1 0 3 2 3 2 1 0 1 1 3 \n",
            "0 0 0 2 3 2 3 3 2 1 1 2 \n",
            "3 3 3 3 3 3 2 3 0 0 3 1 \n",
            "1 1 1 3 0 0 0 2 2 3 2 1 \n",
            "0 1 0 0 1 3 1 2 1 0 1 1 \n",
            "3 3 3 3 1 2 0 2 0 0 0 3 \n",
            "1 2 2 2 1 3 2 0 3 1 1 1 \n",
            "1 2 3 2 1 3 0 0 2 2 2 0 \n",
            "0 1 0 2 3 2 2 3 1 2 3 3 \n",
            "2 2 3 2 3 1 1 1 0 2 0 2 \n",
            "3 2 0 0 2 3 0 1 0 2 1 1 \n",
            "3 1 1 0 0 3 0 3 1 0 3 0 \n",
            "\n",
            "[N Matrix]\n",
            "4 3 4 0 4 7 3 2 0 5 7 7 \n",
            "5 4 7 7 7 7 1 2 6 0 6 5 \n",
            "0 0 6 3 7 3 1 1 5 3 7 5 \n",
            "6 6 0 4 6 7 3 0 1 0 6 2 \n",
            "1 3 3 5 5 6 6 5 6 1 6 3 \n",
            "5 1 4 7 1 5 2 5 5 5 6 1 \n",
            "7 6 4 5 5 4 2 7 6 7 7 1 \n",
            "1 1 1 4 4 7 5 1 3 4 2 1 \n",
            "1 1 6 5 1 6 0 3 6 5 7 5 \n",
            "5 0 6 7 3 7 3 0 3 7 1 1 \n",
            "5 2 5 6 2 1 1 7 2 5 3 2 \n",
            "3 3 3 4 2 4 7 2 2 1 5 7 \n",
            "\n",
            "[P Matrix]\n",
            "50 35 57 46 42 51 19 55 41 64 72 45 \n",
            "43 30 45 63 51 75 48 15 40 29 47 43 \n",
            "54 45 84 72 72 81 39 75 75 78 111 69 \n",
            "75 45 63 99 69 111 63 30 60 51 78 51 \n",
            "16 7 27 26 14 12 4 25 17 23 23 16 \n",
            "20 15 15 23 15 26 27 6 10 10 22 24 \n",
            "36 28 51 49 45 42 24 52 46 47 63 36 \n",
            "43 29 32 56 38 64 45 20 33 28 50 35 \n",
            "27 19 42 40 24 31 7 38 39 42 48 26 \n",
            "29 14 26 41 27 50 36 6 20 31 23 21 \n",
            "29 17 51 34 34 42 14 35 28 46 58 47 \n",
            "46 33 42 55 45 61 36 12 32 17 47 42 \n"
          ]
        }
      ]
    },
    {
      "cell_type": "code",
      "source": [
        "%%writefile matmul_gpu.cu\n",
        "\n",
        "#include<stdio.h>\n",
        "#include<stdlib.h>\n",
        "#include<time.h>\n",
        "\n",
        "__global__ void Matmul(int *M, int *N, int*P, int M_height,int M_width, int N_width)\n",
        "{\n",
        "  int tid, tx, ty;\n",
        "  tx = blockDim.x * blockIdx.x + threadIdx.x;\n",
        "  ty = blockDim.y * blockIdx.y + threadIdx.y;\n",
        "  int DimX = gridDim.x * blockDim.x;\n",
        "  tid = DimX * ty + tx;\n",
        "\n",
        "  int Value = 0;\n",
        "  int MVal = 0;\n",
        "  int NVal = 0;\n",
        "\n",
        "  for(int k = 0; k<M_width; k++)\n",
        "  {\n",
        "    MVal = M[ty * M_width + k];\n",
        "    NVal = N[k * N_width + tx];\n",
        "    Value += MVal*NVal;\n",
        "  }\n",
        "  P[tid] = Value;\n",
        "}\n",
        "\n",
        "void fillArray(int *matrix, const int height, const int width, bool dst);\n",
        "void printResult(int *P, const int height, const int width);\n",
        "\n",
        "int main()\n",
        "{\n",
        "  const int M_height = 0; \n",
        "  const int M_width = 0;\n",
        "  const int N_height = 0;\n",
        "  const int N_width = 0;\n",
        "  printf(\"M_height: \");\n",
        "  scanf(\"%d\", &M_height);\n",
        "  \n",
        "  printf(\"M_width & N_height: \");\n",
        "  scanf(\"%d\", &M_width);\n",
        "  N_height = M_width;\n",
        "\n",
        "  printf(\"N_width: \");\n",
        "  scanf(\"%d\", &N_width); \n",
        "\n",
        "  const int M_matrixSize = M_height * M_width;\n",
        "  const int N_matrixSize = N_height * N_width;\n",
        "  const int P_matrixSize = M_height * N_width;\n",
        "\n",
        "  const int M_bufferSize = M_matrixSize*sizeof(int);\n",
        "  const int N_bufferSize = N_matrixSize*sizeof(int);\n",
        "  const int P_bufferSize = P_matrixSize*sizeof(int);\n",
        "\n",
        "  int *M, *N, *P;\n",
        "  M = (int*)malloc(M_bufferSize); fillArray(M, M_height, M_width, false);\n",
        "  N = (int*)malloc(N_bufferSize); fillArray(M, N_height, N_width, false);\n",
        "  P = (int*)malloc(P_bufferSize); fillArray(P, M_height, N_width, true);\n",
        " \n",
        "  int *dev_M, *dev_N, *dev_p;\n",
        "  cudaMalloc((void**)&dev_M, M_bufferSize);\n",
        "  cudaMalloc((void**)&dev_N, N_bufferSize);\n",
        "  cudaMalloc((void**)&dev_p, P_bufferSize);\n",
        "\n",
        "  cudaMemcpy(dev_M, M, M_bufferSize, cudaMemcpyHostToDevice);\n",
        "  cudaMemcpy(dev_N, N, N_bufferSize, cudaMemcpyHostToDevice);\n",
        "\n",
        "  dim3 Dg(3,3,1);\n",
        "  dim3 Db(8,6,1);\n",
        "  //int DimX = 3*8;\n",
        "\n",
        "  Matmul<<<Dg,Db>>>(dev_M, dev_N, dev_p, M_height, M_width, N_width);\n",
        "  cudaMemcpy(P, dev_p, P_bufferSize, cudaMemcpyDeviceToHost);\n",
        "\n",
        "  printf(\"\\n[M Matrix]\\n\");\n",
        "  printResult(M, M_heigth, M_width);\n",
        "\n",
        "  printf(\"\\n[N Matrix]\\n\");\n",
        "  printResult(N, N_height, N_width);\n",
        "\n",
        "  printf(\"\\n[P Matrix]\\n\");\n",
        "  printResult(P, M_height, N_width);\n",
        "\n",
        "  cudaFree(dev_M); cudaFree(dev_N); cudaFree(dev_p);\n",
        "  free(M); free(N); free(P);\n",
        "\n",
        "  return 0;\n",
        "}\n",
        "\n",
        "void fillArray(int *matrix, const int height, const int width, bool dst)\n",
        "{\n",
        "  srand(time(NULL));\n",
        "  for(int i=0; i<height; i++)\n",
        "  {\n",
        "    for(int j=0; j<width; j++)\n",
        "    {\n",
        "      int loc = height * i + j;\n",
        "      if(dst == true)\n",
        "      {\n",
        "        matrix[loc] = 0;\n",
        "      }\n",
        "      else\n",
        "      {\n",
        "        matrix[loc] =  rand()%4;\n",
        "      } \n",
        "    }\n",
        "  }\n",
        "}\n",
        "\n",
        "void printResult(int *P, const int height, const int width)\n",
        "{\n",
        "  for(int row = 0; row < height; row ++)\n",
        "  {\n",
        "    for(int col = 0; col< width; col++)\n",
        "    {\n",
        "      int idx = row * height + col;\n",
        "      printf(\"%d \", P[idx]);\n",
        "    }\n",
        "    printf(\"\\n\");\n",
        "  }\n",
        "}"
      ],
      "metadata": {
        "colab": {
          "base_uri": "https://localhost:8080/"
        },
        "id": "2fpJPjS-3Q26",
        "outputId": "49fbd010-b3cf-43c0-b5f2-592129246adc"
      },
      "execution_count": null,
      "outputs": [
        {
          "output_type": "stream",
          "name": "stdout",
          "text": [
            "Overwriting matmul_gpu.cu\n"
          ]
        }
      ]
    },
    {
      "cell_type": "code",
      "source": [
        "!nvcc -o matmul_gpu matmul_gpu.cu"
      ],
      "metadata": {
        "id": "szIVkf8z6Upy"
      },
      "execution_count": null,
      "outputs": []
    },
    {
      "cell_type": "code",
      "source": [
        "!./matmul_gpu"
      ],
      "metadata": {
        "id": "OdQvkfkP6Wrt"
      },
      "execution_count": null,
      "outputs": []
    }
  ]
}