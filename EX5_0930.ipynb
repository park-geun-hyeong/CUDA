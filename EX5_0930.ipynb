{
  "nbformat": 4,
  "nbformat_minor": 0,
  "metadata": {
    "colab": {
      "provenance": [],
      "collapsed_sections": [],
      "authorship_tag": "ABX9TyOexMo5e1Qzc+leFCKXZsqh",
      "include_colab_link": true
    },
    "kernelspec": {
      "name": "python3",
      "display_name": "Python 3"
    },
    "language_info": {
      "name": "python"
    },
    "accelerator": "GPU"
  },
  "cells": [
    {
      "cell_type": "markdown",
      "metadata": {
        "id": "view-in-github",
        "colab_type": "text"
      },
      "source": [
        "<a href=\"https://colab.research.google.com/github/park-geun-hyeong/CUDA/blob/main/EX5_0930.ipynb\" target=\"_parent\"><img src=\"https://colab.research.google.com/assets/colab-badge.svg\" alt=\"Open In Colab\"/></a>"
      ]
    },
    {
      "cell_type": "code",
      "execution_count": 1,
      "metadata": {
        "colab": {
          "base_uri": "https://localhost:8080/"
        },
        "id": "ltmnQCxjx1P9",
        "outputId": "7877e346-3caf-443b-b1d9-80fcbef86aca"
      },
      "outputs": [
        {
          "output_type": "stream",
          "name": "stdout",
          "text": [
            "Tue Oct  4 07:46:12 2022       \n",
            "+-----------------------------------------------------------------------------+\n",
            "| NVIDIA-SMI 460.32.03    Driver Version: 460.32.03    CUDA Version: 11.2     |\n",
            "|-------------------------------+----------------------+----------------------+\n",
            "| GPU  Name        Persistence-M| Bus-Id        Disp.A | Volatile Uncorr. ECC |\n",
            "| Fan  Temp  Perf  Pwr:Usage/Cap|         Memory-Usage | GPU-Util  Compute M. |\n",
            "|                               |                      |               MIG M. |\n",
            "|===============================+======================+======================|\n",
            "|   0  Tesla T4            Off  | 00000000:00:04.0 Off |                    0 |\n",
            "| N/A   50C    P8     9W /  70W |      0MiB / 15109MiB |      0%      Default |\n",
            "|                               |                      |                  N/A |\n",
            "+-------------------------------+----------------------+----------------------+\n",
            "                                                                               \n",
            "+-----------------------------------------------------------------------------+\n",
            "| Processes:                                                                  |\n",
            "|  GPU   GI   CI        PID   Type   Process name                  GPU Memory |\n",
            "|        ID   ID                                                   Usage      |\n",
            "|=============================================================================|\n",
            "|  No running processes found                                                 |\n",
            "+-----------------------------------------------------------------------------+\n"
          ]
        }
      ],
      "source": [
        "!nvidia-smi"
      ]
    },
    {
      "cell_type": "code",
      "source": [
        "!nvcc --version"
      ],
      "metadata": {
        "colab": {
          "base_uri": "https://localhost:8080/"
        },
        "id": "q7riO5L7zHRs",
        "outputId": "a0e3368a-6ba2-4231-b3cb-85dca0e4f476"
      },
      "execution_count": 2,
      "outputs": [
        {
          "output_type": "stream",
          "name": "stdout",
          "text": [
            "nvcc: NVIDIA (R) Cuda compiler driver\n",
            "Copyright (c) 2005-2020 NVIDIA Corporation\n",
            "Built on Mon_Oct_12_20:09:46_PDT_2020\n",
            "Cuda compilation tools, release 11.1, V11.1.105\n",
            "Build cuda_11.1.TC455_06.29190527_0\n"
          ]
        }
      ]
    },
    {
      "cell_type": "markdown",
      "source": [
        " ### blockIdx.x, threadIdx.x\n",
        "- 모든 thread에 대해 주어지는 unique ID로서 설정\n",
        "- Kernel 함수 호출 시 파라미터 값에 따라 자동으로 생성\n",
        "- 기존 CPU 프로그래밍에 비해 스레드 관리가 쉬움\n",
        "\n",
        "### cudaDeviceSynchronize():\n",
        "- CUDA의 모든 kernels 호출은 비동기로 이루어짐\n",
        "- 본 function을 사용하지 않는 경우 host는 kernel function호출 후 next instruction을 계속해서 실행\n",
        "- 본 function을 사용하는 경우 host는 device가 작업을 완료할 떄까지 대기"
      ],
      "metadata": {
        "id": "ECW7XBJ2-Y6i"
      }
    },
    {
      "cell_type": "code",
      "source": [
        "%%writefile print_structure.cu\n",
        "\n",
        "#include<stdio.h>\n",
        "\n",
        "__global__ void print_from_gpu()\n",
        "{\n",
        "  printf(\"Hello world, [Thread Block] : [%d, %d] on device!\\n\",threadIdx.x, blockIdx.x);\n",
        "}\n",
        "\n",
        "int main(){\n",
        "\n",
        "  printf(\"Hello world from host\\n\");\n",
        "  print_from_gpu<<<2,2>>>();\n",
        "  cudaDeviceSynchronize();\n",
        "  return 0;\n",
        "}"
      ],
      "metadata": {
        "colab": {
          "base_uri": "https://localhost:8080/"
        },
        "id": "U_1IdRlr9bK7",
        "outputId": "6127ff0f-6c5b-41ac-8642-a74dfff93d98"
      },
      "execution_count": 12,
      "outputs": [
        {
          "output_type": "stream",
          "name": "stdout",
          "text": [
            "Overwriting print_structure.cu\n"
          ]
        }
      ]
    },
    {
      "cell_type": "code",
      "source": [
        "!nvcc -o print_gpu print_structure.cu"
      ],
      "metadata": {
        "id": "QgrOQKal98j7"
      },
      "execution_count": 13,
      "outputs": []
    },
    {
      "cell_type": "code",
      "source": [
        "!./print_gpu"
      ],
      "metadata": {
        "colab": {
          "base_uri": "https://localhost:8080/"
        },
        "id": "L7TbIUve9_8C",
        "outputId": "d07b7d80-3868-45ea-eb49-c109bec72a5f"
      },
      "execution_count": 14,
      "outputs": [
        {
          "output_type": "stream",
          "name": "stdout",
          "text": [
            "Hello world from host\n",
            "Hello world, [Thread Block] : [0, 0] on device!\n",
            "Hello world, [Thread Block] : [1, 0] on device!\n",
            "Hello world, [Thread Block] : [0, 1] on device!\n",
            "Hello world, [Thread Block] : [1, 1] on device!\n"
          ]
        }
      ]
    },
    {
      "cell_type": "markdown",
      "source": [
        "## __global__ void kernel<<<Dg, Db, Ns, S >>> ();\n",
        "\n",
        "### Dg(dimensions of the grid: type dim3)\n",
        "- 그리드의 크기\n",
        "- 블록 개수를 3차원적으로 지정\n",
        "- dim3형의 변수로 지정하며 생략 x\n",
        "- Dg(x,y,z)로 각 차원 지정\n",
        "- dim3 Dg(3,2,1)과 같이 사용\n",
        "- 단일 상수로 넣을 경우 x축 값만 할당\n",
        "\n",
        "### Db(dimensions of the block: type dim3)\n",
        "- 블록의 크기\n",
        "- 블록 안의 스레드 개수를 3차원적으로 지정\n",
        "- dim3 형의 변수 지정하며 생략 x\n",
        "- Db(x,y,z)로 지정\n",
        "- dim3 Db(4,4,4)와 같이 사용\n",
        "- 단일 상수로 넣을 경우 x축 값만 할당\n",
        "\n",
        "### Ns(Number of bytes shared memory dynamically allocated/ block: type size_t)\n",
        "- 각 불록에서 사용하는 shared-memory 크기지정\n",
        "- 정수값으로 입력, 생략 가능\n",
        "- 생략했을 때 디폴트 값으로 0 대입됨\n",
        "\n",
        "### S(associated cudaStream_t)\n",
        "- 스트림은 비동기 처리를 하기 위해 사용\n",
        "- 스트림 번호를 0 이상의 정수로 지정\n",
        "- 스트림 번호 0은 비동기 처리가 아닌 동기 처리를 하는 것을 의미\n"
      ],
      "metadata": {
        "id": "Lz1j8t2E-EHK"
      }
    },
    {
      "cell_type": "code",
      "source": [
        "%%writefile print_structure2.cu\n",
        "\n",
        "#include<stdio.h>\n",
        "\n",
        "__global__ void print_from_gpu()\n",
        "{\n",
        "  printf(\"Hello world, [Block_x, Block_y, Block_z, Thread] : [%d, %d, %d, %d] on device!\\n\",blockIdx.x, blockIdx.y, blockIdx.z, threadIdx.x);\n",
        "  // printf(\"gridDim: %d, blockDim: %d\\n\", gridDim, blockDim);\n",
        "}\n",
        "\n",
        "int main(){\n",
        "\n",
        "  printf(\"Hello world from host\\n\");\n",
        "  dim3 Dg(3,2,3);\n",
        "  print_from_gpu<<<Dg,1>>>(); // 총 3x2x3의 block생성, 각 block당 1개의 Thread 생성\n",
        "  cudaDeviceSynchronize();\n",
        "  return 0;\n",
        "}"
      ],
      "metadata": {
        "colab": {
          "base_uri": "https://localhost:8080/"
        },
        "id": "f0fuew5ACnY8",
        "outputId": "6758a09b-e679-47ec-a744-d8f71d11f67b"
      },
      "execution_count": 22,
      "outputs": [
        {
          "output_type": "stream",
          "name": "stdout",
          "text": [
            "Overwriting print_structure2.cu\n"
          ]
        }
      ]
    },
    {
      "cell_type": "code",
      "source": [
        "!nvcc -o print_gpu2 print_structure2.cu"
      ],
      "metadata": {
        "id": "1r2SnOQlDOkD"
      },
      "execution_count": 23,
      "outputs": []
    },
    {
      "cell_type": "code",
      "source": [
        "!./print_gpu2"
      ],
      "metadata": {
        "colab": {
          "base_uri": "https://localhost:8080/"
        },
        "id": "JEWZ__mqDS3S",
        "outputId": "b24f51d0-1974-4c00-ff8d-1f4a4d068c86"
      },
      "execution_count": 24,
      "outputs": [
        {
          "output_type": "stream",
          "name": "stdout",
          "text": [
            "Hello world from host\n",
            "Hello world, [Block_x, Block_y, Block_z, Thread] : [2, 0, 2, 0] on device!\n",
            "Hello world, [Block_x, Block_y, Block_z, Thread] : [0, 1, 1, 0] on device!\n",
            "Hello world, [Block_x, Block_y, Block_z, Thread] : [0, 1, 2, 0] on device!\n",
            "Hello world, [Block_x, Block_y, Block_z, Thread] : [2, 1, 2, 0] on device!\n",
            "Hello world, [Block_x, Block_y, Block_z, Thread] : [1, 1, 0, 0] on device!\n",
            "Hello world, [Block_x, Block_y, Block_z, Thread] : [1, 1, 1, 0] on device!\n",
            "Hello world, [Block_x, Block_y, Block_z, Thread] : [0, 0, 2, 0] on device!\n",
            "Hello world, [Block_x, Block_y, Block_z, Thread] : [1, 0, 2, 0] on device!\n",
            "Hello world, [Block_x, Block_y, Block_z, Thread] : [1, 1, 2, 0] on device!\n",
            "Hello world, [Block_x, Block_y, Block_z, Thread] : [2, 0, 1, 0] on device!\n",
            "Hello world, [Block_x, Block_y, Block_z, Thread] : [2, 1, 0, 0] on device!\n",
            "Hello world, [Block_x, Block_y, Block_z, Thread] : [2, 1, 1, 0] on device!\n",
            "Hello world, [Block_x, Block_y, Block_z, Thread] : [1, 0, 1, 0] on device!\n",
            "Hello world, [Block_x, Block_y, Block_z, Thread] : [0, 1, 0, 0] on device!\n",
            "Hello world, [Block_x, Block_y, Block_z, Thread] : [0, 0, 0, 0] on device!\n",
            "Hello world, [Block_x, Block_y, Block_z, Thread] : [0, 0, 1, 0] on device!\n",
            "Hello world, [Block_x, Block_y, Block_z, Thread] : [2, 0, 0, 0] on device!\n",
            "Hello world, [Block_x, Block_y, Block_z, Thread] : [1, 0, 0, 0] on device!\n"
          ]
        }
      ]
    }
  ]
}