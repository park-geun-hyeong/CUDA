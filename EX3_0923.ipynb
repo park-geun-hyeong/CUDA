{
  "nbformat": 4,
  "nbformat_minor": 0,
  "metadata": {
    "colab": {
      "provenance": [],
      "collapsed_sections": [],
      "authorship_tag": "ABX9TyNFAh1tiQmWJHkmn7fls6fY",
      "include_colab_link": true
    },
    "kernelspec": {
      "name": "python3",
      "display_name": "Python 3"
    },
    "language_info": {
      "name": "python"
    },
    "accelerator": "GPU"
  },
  "cells": [
    {
      "cell_type": "markdown",
      "metadata": {
        "id": "view-in-github",
        "colab_type": "text"
      },
      "source": [
        "<a href=\"https://colab.research.google.com/github/park-geun-hyeong/CUDA/blob/main/EX3_0923.ipynb\" target=\"_parent\"><img src=\"https://colab.research.google.com/assets/colab-badge.svg\" alt=\"Open In Colab\"/></a>"
      ]
    },
    {
      "cell_type": "markdown",
      "source": [
        "## Error Handling"
      ],
      "metadata": {
        "id": "S1bdCZlQluVb"
      }
    },
    {
      "cell_type": "code",
      "source": [
        "!nvidia-smi"
      ],
      "metadata": {
        "colab": {
          "base_uri": "https://localhost:8080/"
        },
        "id": "zB9HGMTBsD5z",
        "outputId": "8e36ffec-817d-4d31-f787-cf28419db060"
      },
      "execution_count": 16,
      "outputs": [
        {
          "output_type": "stream",
          "name": "stdout",
          "text": [
            "Fri Sep 23 04:52:11 2022       \n",
            "+-----------------------------------------------------------------------------+\n",
            "| NVIDIA-SMI 460.32.03    Driver Version: 460.32.03    CUDA Version: 11.2     |\n",
            "|-------------------------------+----------------------+----------------------+\n",
            "| GPU  Name        Persistence-M| Bus-Id        Disp.A | Volatile Uncorr. ECC |\n",
            "| Fan  Temp  Perf  Pwr:Usage/Cap|         Memory-Usage | GPU-Util  Compute M. |\n",
            "|                               |                      |               MIG M. |\n",
            "|===============================+======================+======================|\n",
            "|   0  Tesla T4            Off  | 00000000:00:04.0 Off |                    0 |\n",
            "| N/A   34C    P8     9W /  70W |      0MiB / 15109MiB |      0%      Default |\n",
            "|                               |                      |                  N/A |\n",
            "+-------------------------------+----------------------+----------------------+\n",
            "                                                                               \n",
            "+-----------------------------------------------------------------------------+\n",
            "| Processes:                                                                  |\n",
            "|  GPU   GI   CI        PID   Type   Process name                  GPU Memory |\n",
            "|        ID   ID                                                   Usage      |\n",
            "|=============================================================================|\n",
            "|  No running processes found                                                 |\n",
            "+-----------------------------------------------------------------------------+\n"
          ]
        }
      ]
    },
    {
      "cell_type": "code",
      "source": [
        "!nvcc --version"
      ],
      "metadata": {
        "colab": {
          "base_uri": "https://localhost:8080/"
        },
        "id": "fpyxZ_omsDwL",
        "outputId": "88647ffe-153c-4d41-ec01-f9e965465228"
      },
      "execution_count": 17,
      "outputs": [
        {
          "output_type": "stream",
          "name": "stdout",
          "text": [
            "nvcc: NVIDIA (R) Cuda compiler driver\n",
            "Copyright (c) 2005-2020 NVIDIA Corporation\n",
            "Built on Mon_Oct_12_20:09:46_PDT_2020\n",
            "Cuda compilation tools, release 11.1, V11.1.105\n",
            "Build cuda_11.1.TC455_06.29190527_0\n"
          ]
        }
      ]
    },
    {
      "cell_type": "markdown",
      "source": [
        "### enum cudaError_t()\n",
        "- cuda 함수 호출 시 성공 여부를 저장하는 리턴값\n",
        "- cuda 함수 호출 성공시 : cudaSuccess(==0) return\n",
        "- cuda 함수 호출 실패시: 수십가지의 Error value중 적절한 값을 리턴\n",
        "\n",
        "### const char* cudaGetErrorName(cudaError_t error)\n",
        "- error의 이름을 return\n",
        "- error 코드가 인식되지 않는다면 'unrecognized error code' return\n",
        "\n",
        "### const char* cudaGetErrorString(cudaError_t error)\n",
        "- error에 대한 설명을 return\n",
        "- error 코드가 인식되지 않는다면 'unrecognized error code' return\n",
        "\n"
      ],
      "metadata": {
        "id": "gdvXgfwSnzq8"
      }
    },
    {
      "cell_type": "code",
      "source": [
        "%%writefile cudaErrExample.cu\n",
        "\n",
        "#include<stdio.h>\n",
        "\n",
        "int main(){\n",
        "\n",
        "  const char* err1 = cudaGetErrorName(cudaErrorMemoryAllocation);\n",
        "  const char* err1_explain = cudaGetErrorString(cudaErrorMemoryAllocation);\n",
        "  printf(\"%s: \", err1);\n",
        "  printf(\"%s\\n\", err1_explain);\n",
        "\n",
        "  const char* err2 = cudaGetErrorName(cudaErrorInvalidValue);\n",
        "  const char* err2_explain = cudaGetErrorString(cudaErrorInvalidValue);\n",
        "  printf(\"%s: \", err2);\n",
        "  printf(\"%s\\n\", err2_explain);\n",
        "\n",
        "  return 0;\n",
        "}\n"
      ],
      "metadata": {
        "colab": {
          "base_uri": "https://localhost:8080/"
        },
        "id": "1l6cashbmiZ2",
        "outputId": "7ea57281-2fdb-4423-e109-cfd2c0ba3903"
      },
      "execution_count": 5,
      "outputs": [
        {
          "output_type": "stream",
          "name": "stdout",
          "text": [
            "Overwriting cudaErrExample.cu\n"
          ]
        }
      ]
    },
    {
      "cell_type": "code",
      "source": [
        "!ls"
      ],
      "metadata": {
        "colab": {
          "base_uri": "https://localhost:8080/"
        },
        "id": "uAQ4UU3um7ix",
        "outputId": "0166fbb9-996b-4f0b-dc8a-32e6b079617e"
      },
      "execution_count": 6,
      "outputs": [
        {
          "output_type": "stream",
          "name": "stdout",
          "text": [
            "cudaErrExample\tcudaErrExample.cu  sample_data\n"
          ]
        }
      ]
    },
    {
      "cell_type": "code",
      "source": [
        "!nvcc -o cudaErrExample cudaErrExample.cu"
      ],
      "metadata": {
        "id": "BO5EZNbjm-IN"
      },
      "execution_count": 7,
      "outputs": []
    },
    {
      "cell_type": "code",
      "source": [
        "!./cudaErrExample"
      ],
      "metadata": {
        "colab": {
          "base_uri": "https://localhost:8080/"
        },
        "id": "dlJiD0eUnCaK",
        "outputId": "8e37c80e-5eb8-45ff-d029-2f7959028a2f"
      },
      "execution_count": 8,
      "outputs": [
        {
          "output_type": "stream",
          "name": "stdout",
          "text": [
            "cudaErrorMemoryAllocation: out of memory\n",
            "cudaErrorInvalidValue: invalid argument\n"
          ]
        }
      ]
    },
    {
      "cell_type": "markdown",
      "source": [
        "### cudaError_t cudaGetLastError(void)\n",
        "- 동일 호스트 스레드 내의 runtime call 로부터 발생된마지막 에러를 리터후 마지막 에러값을 cudaSuccess로 리셋함\n",
        "\n",
        "### cudaError_Tt cudaPeekAtLastError(void)\n",
        "- 동일 호스트 스레드 내의 runtime call 로부터 발생된마지막 에러를 리터후 마지막 에러값을 cudaSuccess로 리셋하지 않음\n",
        "\n",
        "### 내장 메크로\n",
        "- __FILE__ : 현재 소스파일의 경로\n",
        "- __LINE__ : 코드 라인번호(정수형)\n"
      ],
      "metadata": {
        "id": "AXDNWT8nnD7F"
      }
    },
    {
      "cell_type": "code",
      "source": [
        "%%writefile cudaErrMacro.cu\n",
        "\n",
        "#include<stdio.h>\n",
        "\n",
        "int main(){\n",
        "\n",
        "  cudaError_t err = cudaErrorMemoryAllocation;\n",
        "  // cudaError_t err = cudaGetLastError();\n",
        "\n",
        "  if(err != cudaSuccess){\n",
        "    fprintf(stderr, \"[cuda error] %s (line %d): %s(%s)\\n\", __FILE__, __LINE__, cudaGetErrorName(err),cudaGetErrorString(err));\n",
        "    exit(err);\n",
        "  }\n",
        "\n",
        "  return 0;\n",
        "}"
      ],
      "metadata": {
        "colab": {
          "base_uri": "https://localhost:8080/"
        },
        "id": "3O2_pCneqrHh",
        "outputId": "5a28df7a-6110-4c97-f759-ed8150ba66bf"
      },
      "execution_count": 9,
      "outputs": [
        {
          "output_type": "stream",
          "name": "stdout",
          "text": [
            "Writing cudaErrMacro.cu\n"
          ]
        }
      ]
    },
    {
      "cell_type": "code",
      "source": [
        "!nvcc -o cudaErrMacro cudaErrMacro.cu"
      ],
      "metadata": {
        "id": "JqkG7EserUR_"
      },
      "execution_count": 10,
      "outputs": []
    },
    {
      "cell_type": "code",
      "source": [
        "!./cudaErrMacro"
      ],
      "metadata": {
        "colab": {
          "base_uri": "https://localhost:8080/"
        },
        "id": "BPyWLQtvrXsw",
        "outputId": "67b8611c-d37f-40ca-c9dc-132a756afa3b"
      },
      "execution_count": 11,
      "outputs": [
        {
          "output_type": "stream",
          "name": "stdout",
          "text": [
            "[cuda error] cudaErrMacro.cu (line 10): cudaErrorMemoryAllocation(out of memory)\n"
          ]
        }
      ]
    },
    {
      "cell_type": "code",
      "source": [
        "%%writefile cudaErrMacro2.cu\n",
        "\n",
        "#include<stdio.h>\n",
        "\n",
        "#undef NO_DEBUG\n",
        "\n",
        "#ifdef NO_DEBUG   // release mode\n",
        "  #define CUDA_ERR_CHECK(ans) (ans)\n",
        "#else             // debug mode\n",
        "  #define CUDA_ERR_CHECK(ans) {cudaErrCheck((ans), __FILE__, __LINE__);}\n",
        "  inline void cudaErrCheck(cudaError_t err, const char *file, int line, bool abort=true)\n",
        "  {\n",
        "    if(err!=cudaSuccess)\n",
        "    {\n",
        "      fprintf(stderr, \"[cuda error] %s (line %d): %s(%s)\\n\", file, line, cudaGetErrorName(err),cudaGetErrorString(err));\n",
        "      if(abort) exit(err);\n",
        "    }\n",
        "  }\n",
        "#endif\n",
        "\n",
        "int main(){\n",
        "\n",
        "  CUDA_ERR_CHECK(cudaErrorMemoryAllocation);\n",
        "  return 0;\n",
        "}"
      ],
      "metadata": {
        "colab": {
          "base_uri": "https://localhost:8080/"
        },
        "id": "Ib6unGhGraSu",
        "outputId": "b310e6a9-73e4-4934-922c-e171ff587f4a"
      },
      "execution_count": 32,
      "outputs": [
        {
          "output_type": "stream",
          "name": "stdout",
          "text": [
            "Overwriting cudaErrMacro2.cu\n"
          ]
        }
      ]
    },
    {
      "cell_type": "code",
      "source": [
        "!nvcc -o cudaErrMacro2 cudaErrMacro2.cu"
      ],
      "metadata": {
        "id": "GeKfdH6Auczb"
      },
      "execution_count": 33,
      "outputs": []
    },
    {
      "cell_type": "code",
      "source": [
        "!./cudaErrMacro2"
      ],
      "metadata": {
        "colab": {
          "base_uri": "https://localhost:8080/"
        },
        "id": "XV6zw6T3uirV",
        "outputId": "18ee15c9-9d85-4b77-d10d-46f7166e0662"
      },
      "execution_count": 34,
      "outputs": [
        {
          "output_type": "stream",
          "name": "stdout",
          "text": [
            "[cuda error] cudaErrMacro2.cu (line 22): cudaErrorMemoryAllocation(out of memory)\n"
          ]
        }
      ]
    },
    {
      "cell_type": "markdown",
      "source": [
        "#### EX2에서 진행했던 memory copy example에서 고의적으로 direction error 발생시켜서 log 찍어보기\n"
      ],
      "metadata": {
        "id": "txsVnUDBwanq"
      }
    },
    {
      "cell_type": "code",
      "source": [
        "%%writefile memory_copy_err_check.cu\n",
        "\n",
        "#include<stdio.h>\n",
        "\n",
        "#undef NO_DEBUG\n",
        "\n",
        "#ifdef NO_DEBUG   // release mode\n",
        "  #define CUDA_ERR_CHECK(ans) (ans)\n",
        "#else             // debug mode\n",
        "  #define CUDA_ERR_CHECK(ans) {cudaErrCheck((ans), __FILE__, __LINE__);}\n",
        "  inline void cudaErrCheck(cudaError_t err, const char *file, int line, bool abort=true)\n",
        "  {\n",
        "    if(err!=cudaSuccess)\n",
        "    {\n",
        "      fprintf(stderr, \"[cuda error] %s (line %d): %s(%s)\\n\", file, line, cudaGetErrorName(err),cudaGetErrorString(err));\n",
        "      if(abort) exit(err);\n",
        "    }\n",
        "  }\n",
        "#endif\n",
        "\n",
        "int main(){\n",
        "\n",
        "  int size = 10;\n",
        "  int src_data[size] = {0,1,2,3,4,5,6,7,8,9};\n",
        "  int dst_data[size] = {0,0,0,0,0,0,0,0,0,0};\n",
        "\n",
        "  printf(\"src data = \");\n",
        "  for(int i = 0 ; i<size; i++){\n",
        "    printf(\"%d \", src_data[i]);\n",
        "  }\n",
        "  printf(\"\\n\");\n",
        "\n",
        "  int* dev_src = 0;\n",
        "  int* dev_dst = 0;\n",
        "\n",
        "  CUDA_ERR_CHECK(cudaMalloc((void**)&dev_src, size*sizeof(int)));\n",
        "  CUDA_ERR_CHECK(cudaMalloc((void**)&dev_dst, size*sizeof(int)));\n",
        " \n",
        "  // Host--> Device(Device -> Device로 고의적인 Error 발생!)\n",
        "  CUDA_ERR_CHECK(cudaMemcpy(dev_src, src_data, size*sizeof(int), cudaMemcpyDeviceToDevice));\n",
        " \n",
        "  // Device--> Device\n",
        "  CUDA_ERR_CHECK(cudaMemcpy(dev_dst, dev_src, size*sizeof(int), cudaMemcpyDeviceToDevice));\n",
        "  \n",
        "  // Device--> Host\n",
        "  CUDA_ERR_CHECK(cudaMemcpy(dst_data, dev_dst, size*sizeof(int), cudaMemcpyDeviceToHost));\n",
        "\n",
        "  CUDA_ERR_CHECK(cudaFree(dev_src));\n",
        "  CUDA_ERR_CHECK(cudaFree(dev_dst));\n",
        " \n",
        "  printf(\"dst data = \");\n",
        "  for(int i = 0 ; i<size; i++){\n",
        "    printf(\"%d \", dst_data[i]);\n",
        "  }\n",
        "  printf(\"\\n\");\n",
        "\n",
        "  return 1;\n",
        "}"
      ],
      "metadata": {
        "colab": {
          "base_uri": "https://localhost:8080/"
        },
        "id": "_pSVUhh_uyFA",
        "outputId": "10aef7f7-71e8-4687-ab5d-f632133df261"
      },
      "execution_count": 26,
      "outputs": [
        {
          "output_type": "stream",
          "name": "stdout",
          "text": [
            "Overwriting memory_copy_err_check.cu\n"
          ]
        }
      ]
    },
    {
      "cell_type": "code",
      "source": [
        "!nvcc -o memory_copy_err_check memory_copy_err_check.cu"
      ],
      "metadata": {
        "id": "Q75O5RTBvldO"
      },
      "execution_count": 27,
      "outputs": []
    },
    {
      "cell_type": "code",
      "source": [
        "!./memory_copy_err_check"
      ],
      "metadata": {
        "colab": {
          "base_uri": "https://localhost:8080/"
        },
        "id": "gVTHeUAevraP",
        "outputId": "9d6136e0-8538-44d8-b055-7d97c898595c"
      },
      "execution_count": 28,
      "outputs": [
        {
          "output_type": "stream",
          "name": "stdout",
          "text": [
            "src data = 0 1 2 3 4 5 6 7 8 9 \n",
            "[cuda error] memory_copy_err_check.cu (line 41): cudaErrorInvalidValue(invalid argument)\n"
          ]
        }
      ]
    }
  ]
}