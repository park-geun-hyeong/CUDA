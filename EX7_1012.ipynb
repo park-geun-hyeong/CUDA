{
  "nbformat": 4,
  "nbformat_minor": 0,
  "metadata": {
    "colab": {
      "provenance": [],
      "collapsed_sections": [],
      "authorship_tag": "ABX9TyPftpSdZpTOVQDTH5GgdBTR",
      "include_colab_link": true
    },
    "kernelspec": {
      "name": "python3",
      "display_name": "Python 3"
    },
    "language_info": {
      "name": "python"
    },
    "accelerator": "GPU"
  },
  "cells": [
    {
      "cell_type": "markdown",
      "metadata": {
        "id": "view-in-github",
        "colab_type": "text"
      },
      "source": [
        "<a href=\"https://colab.research.google.com/github/park-geun-hyeong/CUDA/blob/main/EX7_1012.ipynb\" target=\"_parent\"><img src=\"https://colab.research.google.com/assets/colab-badge.svg\" alt=\"Open In Colab\"/></a>"
      ]
    },
    {
      "cell_type": "code",
      "execution_count": 1,
      "metadata": {
        "colab": {
          "base_uri": "https://localhost:8080/"
        },
        "id": "5-bbqzgg2NhO",
        "outputId": "1b9b55af-e616-46fd-a108-82477982b6bb"
      },
      "outputs": [
        {
          "output_type": "stream",
          "name": "stdout",
          "text": [
            "Fri Oct 14 04:36:59 2022       \n",
            "+-----------------------------------------------------------------------------+\n",
            "| NVIDIA-SMI 460.32.03    Driver Version: 460.32.03    CUDA Version: 11.2     |\n",
            "|-------------------------------+----------------------+----------------------+\n",
            "| GPU  Name        Persistence-M| Bus-Id        Disp.A | Volatile Uncorr. ECC |\n",
            "| Fan  Temp  Perf  Pwr:Usage/Cap|         Memory-Usage | GPU-Util  Compute M. |\n",
            "|                               |                      |               MIG M. |\n",
            "|===============================+======================+======================|\n",
            "|   0  Tesla T4            Off  | 00000000:00:04.0 Off |                    0 |\n",
            "| N/A   53C    P8    10W /  70W |      0MiB / 15109MiB |      0%      Default |\n",
            "|                               |                      |                  N/A |\n",
            "+-------------------------------+----------------------+----------------------+\n",
            "                                                                               \n",
            "+-----------------------------------------------------------------------------+\n",
            "| Processes:                                                                  |\n",
            "|  GPU   GI   CI        PID   Type   Process name                  GPU Memory |\n",
            "|        ID   ID                                                   Usage      |\n",
            "|=============================================================================|\n",
            "|  No running processes found                                                 |\n",
            "+-----------------------------------------------------------------------------+\n"
          ]
        }
      ],
      "source": [
        "!nvidia-smi "
      ]
    },
    {
      "cell_type": "code",
      "source": [
        "!nvcc --version"
      ],
      "metadata": {
        "colab": {
          "base_uri": "https://localhost:8080/"
        },
        "id": "c8q-XI4a2UZC",
        "outputId": "a36ba0cf-6d08-4a13-c31a-d92a2e8698d8"
      },
      "execution_count": 2,
      "outputs": [
        {
          "output_type": "stream",
          "name": "stdout",
          "text": [
            "nvcc: NVIDIA (R) Cuda compiler driver\n",
            "Copyright (c) 2005-2021 NVIDIA Corporation\n",
            "Built on Sun_Feb_14_21:12:58_PST_2021\n",
            "Cuda compilation tools, release 11.2, V11.2.152\n",
            "Build cuda_11.2.r11.2/compiler.29618528_0\n"
          ]
        }
      ]
    },
    {
      "cell_type": "markdown",
      "source": [
        "## CPU Matrix Addition"
      ],
      "metadata": {
        "id": "yVWnpjos5C7b"
      }
    },
    {
      "cell_type": "code",
      "source": [
        "%%writefile matrix_addition.cu\n",
        "\n",
        "#include <stdio.h>\n",
        "#define LENGTH 12\n",
        "\n",
        "void MatrixAdd(int *M, int *N, int *P, int width, int height);\n",
        "void printResult(int *M, int*N, int* P, int width, int height);\n",
        "\n",
        "int main()\n",
        "{ \n",
        "  int width; int height; \n",
        "  printf(\"width: \");\n",
        "  scanf(\"%d\", &width);\n",
        "  printf(\"height \");\n",
        "  scanf(\"%d\", &height);\n",
        "\n",
        "  const int MatrixSize = height * width;\n",
        "  const int BufferSize = MatrixSize * sizeof(int);\n",
        "\n",
        "  int *M, *N, *P;\n",
        "  M = (int*)malloc(BufferSize);\n",
        "  N = (int*)malloc(BufferSize);\n",
        "  P = (int*)malloc(BufferSize);\n",
        "  \n",
        "  for(int i=0; i<MatrixSize; i++)\n",
        "  {\n",
        "    M[i] = 1;\n",
        "    N[i] = 1;\n",
        "    P[i] = 0; \n",
        "  }\n",
        "\n",
        "  MatrixAdd(M,N,P,width, height);\n",
        "  printResult(M,N,P,width, height);\n",
        "\n",
        "  free(M); free(N); free(P);\n",
        "  return 0;\n",
        "}\n",
        "\n",
        "void MatrixAdd(int *M, int *N, int *P, int width, int height)\n",
        "{\n",
        "  for(int row =0; row<height; row++)\n",
        "  {\n",
        "    for(int col = 0; col<width; col++)\n",
        "    {\n",
        "      int Destindex = row*height + col;\n",
        "      P[Destindex] = M[Destindex] + N[Destindex];\n",
        "    }\n",
        "  }\n",
        "}\n",
        "\n",
        "void printResult(int *M, int*N, int* P, int width, int height)\n",
        "{\n",
        "  for(int row =0; row<height; row++)\n",
        "  {\n",
        "    for(int col = 0; col<width; col++)\n",
        "    {\n",
        "      int Destindex = row*height + col;\n",
        "      printf(\"%d \", P[Destindex]);\n",
        "    }\n",
        "    printf(\"\\n\");\n",
        "  }\n",
        "}"
      ],
      "metadata": {
        "colab": {
          "base_uri": "https://localhost:8080/"
        },
        "id": "hPEtSWNf2Vo0",
        "outputId": "8404ca70-9461-4dde-80a6-4d23bb2e2b68"
      },
      "execution_count": 3,
      "outputs": [
        {
          "output_type": "stream",
          "name": "stdout",
          "text": [
            "Writing matrix_addition.cu\n"
          ]
        }
      ]
    },
    {
      "cell_type": "code",
      "source": [
        "!nvcc -o matrix_add_cpu matrix_addition.cu"
      ],
      "metadata": {
        "id": "3v77rLd_4hxW"
      },
      "execution_count": 4,
      "outputs": []
    },
    {
      "cell_type": "code",
      "source": [
        "!./matrix_add_cpu"
      ],
      "metadata": {
        "colab": {
          "base_uri": "https://localhost:8080/"
        },
        "id": "dVMz_eVm4pAg",
        "outputId": "5791037b-22ec-4a23-ea07-2f2e84de9ad0"
      },
      "execution_count": 5,
      "outputs": [
        {
          "output_type": "stream",
          "name": "stdout",
          "text": [
            "width: 6\n",
            "height 8\n",
            "2 2 2 2 2 2 \n",
            "2 2 2 2 2 2 \n",
            "2 2 2 2 2 2 \n",
            "2 2 2 2 2 2 \n",
            "2 2 2 2 2 2 \n",
            "2 2 2 2 2 2 \n",
            "3 3 3 3 3 3 \n",
            "3 3 3 3 3 3 \n"
          ]
        }
      ]
    },
    {
      "cell_type": "markdown",
      "source": [
        "## CPU Matrix Addition"
      ],
      "metadata": {
        "id": "y05pfITgxvNY"
      }
    },
    {
      "cell_type": "code",
      "source": [
        "%%writefile matrix_addition_gpu.cu\n",
        "\n",
        "#include<stdio.h>\n",
        "#define LENGTH 14\n",
        "\n",
        "__global__ void MatrixAdd(int *m, int *n, int *p)\n",
        "{\n",
        "  int tid, tx, ty;\n",
        "  tx = blockDim.x * blockIdx.x + threadIdx.x;\n",
        "  ty = blockDim.y * blockIdx.y + threadIdx.y;\n",
        "  tid = gridDim.x * ty + tx;\n",
        "\n",
        "  p[tid] = m[tid] + n[tid];\n",
        "}\n",
        "\n",
        "void printResult(int *m, int *n, int *p);\n",
        "\n",
        "int main()\n",
        "{\n",
        "\n",
        "  const int MatrixSize = LENGTH*LENGTH;\n",
        "  const int BufferSize = MatrixSize * sizeof(int);\n",
        "\n",
        "  int *M, *N, *P;\n",
        "  M = (int*)malloc(BufferSize);\n",
        "  N = (int*)malloc(BufferSize);\n",
        "  P = (int*)malloc(BufferSize);\n",
        "  for(int i=0; i<MatrixSize; i++)\n",
        "  {\n",
        "    M[i] = 1;\n",
        "    N[i] = 1;\n",
        "    P[i] = 0; \n",
        "  }\n",
        " \n",
        "  int *dev_M, *dev_N, *dev_p;\n",
        "  cudaMalloc((void**)&dev_M, BufferSize);\n",
        "  cudaMalloc((void**)&dev_N, BufferSize);\n",
        "  cudaMalloc((void**)&dev_p, BufferSize);\n",
        "\n",
        "  cudaMemcpy(dev_M, M, BufferSize, cudaMemcpyHostToDevice);\n",
        "  cudaMemcpy(dev_N, N, BufferSize, cudaMemcpyHostToDevice);\n",
        "\n",
        "  dim3 Dg(3,3,1);\n",
        "  dim3 Db(8,6,1);\n",
        "  //int DimX = 3*8;\n",
        "\n",
        "  MatrixAdd<<<Dg,Db>>>(dev_M, dev_N, dev_p);\n",
        "  cudaMemcpy(P, dev_p, BufferSize, cudaMemcpyDeviceToHost);\n",
        "\n",
        "  printResult(M,N,P);\n",
        "  cudaFree(dev_M); cudaFree(dev_N); cudaFree(dev_p);\n",
        "  free(M); free(N); free(P);\n",
        "  \n",
        "  return 0;\n",
        "}\n",
        "\n",
        "\n",
        "void printResult(int *m, int *n, int *p)\n",
        "{\n",
        "  for(int i = 0; i<LENGTH; i++)\n",
        "  {\n",
        "    for(int j=0; j<LENGTH; j++)\n",
        "    {\n",
        "      int dstIndex = i*LENGTH + j;\n",
        "      printf(\"%d \", p[i]);\n",
        "    }\n",
        "    printf(\"\\n\");\n",
        "  }\n",
        "\n",
        "}"
      ],
      "metadata": {
        "colab": {
          "base_uri": "https://localhost:8080/"
        },
        "id": "byN73pIMx-F0",
        "outputId": "4ab5d1e1-b942-40a6-fb7f-8a7bbb1e436b"
      },
      "execution_count": 21,
      "outputs": [
        {
          "output_type": "stream",
          "name": "stdout",
          "text": [
            "Overwriting matrix_addition_gpu.cu\n"
          ]
        }
      ]
    },
    {
      "cell_type": "code",
      "source": [
        "!nvcc -o matrix_addition_gpu matrix_addition_gpu.cu"
      ],
      "metadata": {
        "colab": {
          "base_uri": "https://localhost:8080/"
        },
        "id": "JQm0OLLN4fS0",
        "outputId": "f0ddb0a3-962f-4352-d8de-d33f2200a63c"
      },
      "execution_count": 22,
      "outputs": [
        {
          "output_type": "stream",
          "name": "stdout",
          "text": [
            "matrix_addition_gpu.cu(63): warning: variable \"dstIndex\" was declared but never referenced\n",
            "\n"
          ]
        }
      ]
    },
    {
      "cell_type": "code",
      "source": [
        "!./matrix_addition_gpu"
      ],
      "metadata": {
        "colab": {
          "base_uri": "https://localhost:8080/"
        },
        "id": "mrbQSjC64ktU",
        "outputId": "ca5049a7-6a83-4d13-ec26-a0725b5e342e"
      },
      "execution_count": 23,
      "outputs": [
        {
          "output_type": "stream",
          "name": "stdout",
          "text": [
            "2 2 2 2 2 2 2 2 2 2 2 2 2 2 \n",
            "2 2 2 2 2 2 2 2 2 2 2 2 2 2 \n",
            "2 2 2 2 2 2 2 2 2 2 2 2 2 2 \n",
            "2 2 2 2 2 2 2 2 2 2 2 2 2 2 \n",
            "2 2 2 2 2 2 2 2 2 2 2 2 2 2 \n",
            "2 2 2 2 2 2 2 2 2 2 2 2 2 2 \n",
            "2 2 2 2 2 2 2 2 2 2 2 2 2 2 \n",
            "2 2 2 2 2 2 2 2 2 2 2 2 2 2 \n",
            "2 2 2 2 2 2 2 2 2 2 2 2 2 2 \n",
            "2 2 2 2 2 2 2 2 2 2 2 2 2 2 \n",
            "2 2 2 2 2 2 2 2 2 2 2 2 2 2 \n",
            "2 2 2 2 2 2 2 2 2 2 2 2 2 2 \n",
            "2 2 2 2 2 2 2 2 2 2 2 2 2 2 \n",
            "2 2 2 2 2 2 2 2 2 2 2 2 2 2 \n"
          ]
        }
      ]
    }
  ]
}