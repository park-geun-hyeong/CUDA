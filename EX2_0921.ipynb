{
  "nbformat": 4,
  "nbformat_minor": 0,
  "metadata": {
    "colab": {
      "provenance": [],
      "collapsed_sections": [],
      "authorship_tag": "ABX9TyOqqXzzsKW7aw2EZ4T5WbeN",
      "include_colab_link": true
    },
    "kernelspec": {
      "name": "python3",
      "display_name": "Python 3"
    },
    "language_info": {
      "name": "python"
    },
    "accelerator": "GPU"
  },
  "cells": [
    {
      "cell_type": "markdown",
      "metadata": {
        "id": "view-in-github",
        "colab_type": "text"
      },
      "source": [
        "<a href=\"https://colab.research.google.com/github/park-geun-hyeong/CUDA/blob/main/EX2_0921.ipynb\" target=\"_parent\"><img src=\"https://colab.research.google.com/assets/colab-badge.svg\" alt=\"Open In Colab\"/></a>"
      ]
    },
    {
      "cell_type": "markdown",
      "source": [
        "## CPU-GPU Data Copy Example"
      ],
      "metadata": {
        "id": "YwDCw5bgzB_e"
      }
    },
    {
      "cell_type": "code",
      "source": [
        "%%writefile memory_copy.cu\n",
        "\n",
        "#include<stdio.h>\n",
        "\n",
        "int main(){\n",
        "\n",
        "  int size = 10;\n",
        "  int src_data[size] = {0,1,2,3,4,5,6,7,8,9};\n",
        "  int dst_data[size] = {0,0,0,0,0,0,0,0,0,0};\n",
        "\n",
        "  printf(\"src data = \");\n",
        "  for(int i = 0 ; i<size; i++){\n",
        "    printf(\"%d \", src_data[i]);\n",
        "  }\n",
        "  printf(\"\\n\");\n",
        "\n",
        "  int* dev_src = 0;\n",
        "  int* dev_dst = 0;\n",
        "\n",
        "  cudaMalloc((void**)&dev_src, size*sizeof(int));\n",
        "  cudaMalloc((void**)&dev_dst, size*sizeof(int));\n",
        " \n",
        "  // Host--> Device\n",
        "  cudaMemcpy(dev_src, src_data, size*sizeof(int), cudaMemcpyHostToDevice);\n",
        " \n",
        "  // Device--> Device\n",
        "  cudaMemcpy(dev_dst, dev_src, size*sizeof(int), cudaMemcpyDeviceToDevice);\n",
        "  \n",
        "  // Device--> Host\n",
        "  cudaMemcpy(dst_data, dev_dst, size*sizeof(int), cudaMemcpyDeviceToHost);\n",
        "\n",
        "  cudaFree(dev_src);\n",
        "  cudaFree(dev_dst);\n",
        " \n",
        "  printf(\"dst data = \");\n",
        "  for(int i = 0 ; i<size; i++){\n",
        "    printf(\"%d \", dst_data[i]);\n",
        "  }\n",
        "  printf(\"\\n\");\n",
        "\n",
        "  return 1;\n",
        "}"
      ],
      "metadata": {
        "colab": {
          "base_uri": "https://localhost:8080/"
        },
        "id": "gYNQeGbqzG5g",
        "outputId": "216ce80b-ea6a-48b9-ebfe-b311885e2375"
      },
      "execution_count": 1,
      "outputs": [
        {
          "output_type": "stream",
          "name": "stdout",
          "text": [
            "Writing memory_copy.cu\n"
          ]
        }
      ]
    },
    {
      "cell_type": "code",
      "source": [
        "!nvcc -o memory_copy -arch=sm_37  memory_copy.cu"
      ],
      "metadata": {
        "colab": {
          "base_uri": "https://localhost:8080/"
        },
        "id": "B5mvT-YtzePi",
        "outputId": "07e65d8a-6533-4e8c-80ce-835d5c895594"
      },
      "execution_count": 2,
      "outputs": [
        {
          "output_type": "stream",
          "name": "stdout",
          "text": [
            "nvcc warning : The 'compute_35', 'compute_37', 'compute_50', 'sm_35', 'sm_37' and 'sm_50' architectures are deprecated, and may be removed in a future release (Use -Wno-deprecated-gpu-targets to suppress warning).\n"
          ]
        }
      ]
    },
    {
      "cell_type": "code",
      "source": [
        "!./memory_copy"
      ],
      "metadata": {
        "colab": {
          "base_uri": "https://localhost:8080/"
        },
        "id": "OJF79dsRzjSB",
        "outputId": "f18f8764-5172-4561-abb9-07d3f173990d"
      },
      "execution_count": 3,
      "outputs": [
        {
          "output_type": "stream",
          "name": "stdout",
          "text": [
            "src data = 0 1 2 3 4 5 6 7 8 9 \n",
            "dst data = 0 1 2 3 4 5 6 7 8 9 \n"
          ]
        }
      ]
    }
  ]
}